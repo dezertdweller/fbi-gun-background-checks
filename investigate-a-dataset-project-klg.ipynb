{
 "cells": [
  {
   "cell_type": "markdown",
   "metadata": {},
   "source": [
    "# Project: Investigating FBI Gun Data and Census Data\n",
    "\n",
    "### By: Katia Lopes-Gilbert\n",
    "\n",
    "_July 2023_\n",
    "\n",
    "## Table of Contents\n",
    "<ul>\n",
    "<li><a href=\"#intro\">Introduction</a></li>\n",
    "<li><a href=\"#wrangling\">Data Wrangling</a></li>\n",
    "<li><a href=\"#eda\">Exploratory Data Analysis</a></li>\n",
    "<li><a href=\"#conclusions\">Conclusions</a></li>\n",
    "</ul>"
   ]
  },
  {
   "cell_type": "markdown",
   "metadata": {},
   "source": [
    "<a id='intro'></a>\n",
    "## Introduction\n",
    "\n",
    "For this project, I have decided to analyze and compare FBI background check data for gun purchases to Census data. I will review demographic trends in indviduals states, general trends over time for FBI background checks, and comparing the datasets to see if certain demographic characteristics are associated with higher or lower background checks. \n",
    "\n",
    "### High Level Overview of the Datasets\n",
    "**FBI Data** \n",
    "Data from the FBI's National Instant Criminal Background Check System (NCIS) is used to determine whether a prospective buyer is eligible to buy firearms. \n",
    "\n",
    "> When a person tries to buy a firearm, the seller, known as a Federal Firearms Licensee (FFL), contacts NICS electronically or by phone. The prospective buyer fills out the ATF form, and the FFL relays that information to the NICS. The NICS staff performs a background check on the buyer. That background check verifies the buyer does not have a criminal record or isn't otherwise ineligible to purchase or own a firearm. Since launching in 1998, more than 300 million checks have been done, leading to more than 1.5 million denials.\n",
    ">\n",
    "\n",
    "You can read more about NCIS firearm checks [here](https://www.fbi.gov/how-we-can-help-you/more-fbi-services-and-information/nics). \n",
    "\n",
    "**Census Data**\n",
    "The data has been supplemented with state level data from the Census American Community Survey (ACS). ACS data generally contains population statistics such as demographic and socioeconomic data.  \n",
    "\n",
    "> The ACS helps local officials, community leaders, and businesses understand the changes taking place in their communities. It is the premier source for detailed population and housing information about our nation.\n",
    ">\n",
    "\n",
    "You can read more about Census ACS data [here](https://www.census.gov/programs-surveys/acs). \n",
    "\n",
    "### Notes about the NCIS Data\n",
    "The original PDF of the NCIS firearm checks data contains important notes and caveats. It's a good idea to read those first before diving into the data. Among the caveats is this important one — emphasis added:\n",
    "\n",
    "> These statistics represent the number of firearm background checks initiated through the NICS. They do not represent the number of firearms sold. Based on varying state laws and purchase scenarios, a one-to-one correlation cannot be made between a firearm background check and a firearm sale.\n",
    ">\n",
    "\n",
    "### Downloading the Data\n",
    "\n",
    "FBI NCIS Background Check Dataset: [**click here to download the FBI data.**](https://www.google.com/url?q=https://d17h27t6h515a5.cloudfront.net/topher/2017/November/5a0a4db8_gun-data/gun-data.xlsx&sa=D&source=editors&ust=1690055166882138&usg=AOvVaw2NXkKn2SPaQBva5xby3KAN)\n",
    "\n",
    "Census ACS Dataset: [**click here to download the Census data.**](https://www.google.com/url?q=https://d17h27t6h515a5.cloudfront.net/topher/2017/November/5a0a554c_u.s.-census-data/u.s.-census-data.csv&sa=D&source=editors&ust=1690055166882803&usg=AOvVaw3oW2CN2wlOxBkVvLM8L5M5)\n",
    "\n",
    "✅ Great, now that you have downloaded the datasets, let's get started! 🚀"
   ]
  },
  {
   "cell_type": "markdown",
   "metadata": {},
   "source": [
    "## Questions We Will Explore 🔎\n",
    "\n",
    "I have chosen to explore each dataset individually as well as conduct some comparative analysis to look at any interesting trends and correlation. \n",
    "\n",
    "**📓 Census Data Analysis Questions:**\n",
    "1. Which states had the most population growth from 2010 to 2016?\n",
    "2. What is the distribution of race or ethnicity for each state?\n",
    "3. Are poverty levels correlated with specific demogrpahic factors like race, ethnicity, foreign born individuals, and educational levels?\n",
    "\n",
    "**📓 FBI Background Check Data Analysis Questions:**\n",
    "1. What are the overall trends overtime for firearm background checks for handguns and long guns?\n",
    "2. What time of the year is the most common for background checks?\n",
    "3. Do certain states have higher numbers of handguns? What about long guns?\n",
    "\n",
    "**📓 Comparing the Datasets:**\n",
    "1. Which states have the highest firearm checks per capita?\n",
    "2. Are certain demographic characteristics correlated with more background checks?\n",
    "\n",
    "I will answer these questions by providing visualizations and comments. 📊"
   ]
  },
  {
   "cell_type": "markdown",
   "metadata": {},
   "source": [
    "<a id='wrangling'></a>\n",
    "## Data Wrangling\n",
    "\n",
    "I conducted my initial analysis in a separate Jupyter Notebook file called [Initial Analysis](https://github.com/dezertdweller/fbi-gun-background-checks/blob/main/initial-analysis.ipynb). Please refer to this document for a more in-depth review of the operations I performed to understand each dataset and what errors would need to be corrected before further analysis.\n",
    "\n",
    "I decided to write Python scripts for the cleaning and transformation of both datasets. I will provide summaries of the operations I performed below. However, please refer to the respective documents for each dataset to see how I cleaned and transformed both. \n",
    "\n",
    "----\n",
    "\n",
    "### 📋 FBI Data Overview\n",
    "I was most interested in how to use the FBI Firearm Background Check data to estimate number of firearms purchased in each state. While analyzing the data, I read several papers from NCIS and independent researchers to better understand what each column signified in this dataset and which ones would be best for further analysis.\n",
    "\n",
    "The FBI Firearm Background Check data contains 12485 records and 27 columns. Below is a description of what the first 7 columns represents:\n",
    "1. _Permit_: any permit check\n",
    "2. _Permit Recheck_: any permit recheck\n",
    "3. _Handgun_: permit check for any firearm which has a short stock and is designed to be held and fired by the use of a single hand; and (b) any combination of parts from which a firearm described in paragraph (a) can be assembled.\n",
    "4. _Long Gun_: permit check for a weapon designed or redesigned, made or remade, and intended to be fired from the shoulder, and designed or redesigned and made or remade to use the energy of the explosive in (a) a fixed metallic cartridge to fire a single projectile through a rifled bore for each single pull of the trigger; or (b) a fixed shotgun shell to fire through a smooth bore either a number of ball shot or a single projectile for each single pull of the trigger.\n",
    "5. _Other_: permit check for frames, receivers, and other firearms that are neither handguns nor long guns (rifles or shotguns), such as firearms having a pistol grip that expel a shotgun shell, or National Firearms Act firearms, including silencers.\n",
    "6. _Multiple_: permit check for when an individual is interested in more than one type of firearm (i.e. handgun and a long gun)\n",
    "7. _Admin_: the administrative checks that are for other authorized uses of the NICS\n",
    "\n",
    "Additional columns include handgun permits, long gun permits, and other permits for six specific categories including pre-pawn, redemption, returned/diposition, rentals, private sale, and return to seller-private sale. Definitions are included below about what each of these categories mean:\n",
    "1. _Pre-Pawn Handgun_: background checks requested by an officially-licensed FFL on prospective firearm transferees seeking to pledge or pawn a firearm as security for the payment or repayment of money, prior to actually pledging or pawning the firearm.\n",
    "2. _Redemption_: background checks requested by an officially-licensed FFL on prospective firearm transferees attempting to regain possession of a firearm after pledging or pawning a firearm as security at a pawn shop.\n",
    "3. _Returned/Disposition_: background checks requested by criminal justice/law enforcement agencies prior to returning a firearm in its possession to the respective transferee, to ensure the individual is not prohibited.\n",
    "4. _Rentals_: background checks requested by an officially-licensed FFL on prospective firearm transferees attempting to possess a firearm when the firearm is loaned or rented for use off the premises of the business.\n",
    "5. _Private Sale_: background checks requested by an officially-licensed FFL on prospective firearm transferees attempting to possess a firearm from a private party seller who is not an officially-licensed FFL.\n",
    "6. _Return to Seller-Private Sale_: background checks requested by an officially-licensed FFL on prospective firearm transferees attempting to possess a firearm from a private party seller who is not an officially-licensed FFL.\n",
    "\n",
    "After reading more about the data collected from NCIS, I decided to eliminate the permit and permit recheck columns. Although these provide data about the overall production of NCIS when it comes to running firearm background checks, these data are useless for estimating number of firearms purchased in certain states. A research paper from 2013 titled _The US Firearms Industry: Production and Supply_ by Jurgen Brauer describes why using several examples below:\n",
    "\n",
    "> _For example, from November 1998 to February 2012 NICS recorded ten million so-called ‘permit’ checks for the state of Kentucky. For the same state it also recorded more than one million addi- tional ‘handgun’ checks and 1.6 million ‘long gun’ checks. A ‘permit’ refers to a firearms-carrying licence issued by the state of Kentucky. The state checks monthly whether any of its permit holders may no longer be eligible for gun ownership, e.g. as a result of having committed a felony. Thus, Kentucky’s permit checks amount to continued eligibility checks that are wholly unrelated to a prospective customer’s intent to purchase a firearm from a licensed dealer. Similarly, Utah’s permits are checked every 90 days against FBI records. Each state maintains its own rules regarding the frequency, if any, with which its issued permits are checked against FBI records._\n",
    ">\n",
    "\n",
    "I have also decided to remove the following columns because they are unrelated to a prospective gun purchase: admin, prepawn_handgun, prepawn_long_gun, prepawn_other, redemption_handgun, redemption_long_gun, redemption_other, returned_handgun, returned_long_gun, returned_other, rentals_handgun, and rentals_long_gun.\n",
    "\n",
    "Finally, I removed the 'totals' column because this no longer represented totals based on the data I was leaving in the dataset. \n",
    "\n",
    "#### Summary of FBI Data Cleaning 🫧🧽\n",
    "Overall, this dataset was very clean and didn't have errors. However, to conduct further analysis of the FBI data, I would need to perform the following sets to clean the data:\n",
    "* Convert the excel file to a csv file.\n",
    "* Convert the month column into a datetime column so this can be used for further analysis.\n",
    "* Create a new totals column based on the fields I am keeping.\n",
    "* Fill the null values with '0' so that these can be analyzed.\n",
    "\n",
    "I also wanted to simplify my comparative analysis to the Census dataset by removing geographies from the FBI data that were not present in the Census data. I removed records for the following geographic areas: District of Columbia, Guam, Mariana Islands, Puerto Rico, and Virgin Islands. \n",
    "\n",
    "📁 [FBI Cleaning Script](https://github.com/dezertdweller/fbi-gun-background-checks/blob/main/fbi-cleaning.py)\n",
    "\n",
    "---\n",
    "\n",
    "### 📋 Census Data Overview\n",
    "The Census ACS data contains 85 records and 52 columns. In reviewing how the data was presented, most columns represented individual states and each state had specific facts. I knew I would want to transpose the data in long format to make it easier to analyze later. Additionally, the Census data would require much more cleaning prior to doing this transformation.\n",
    "\n",
    "#### Summary of Census Data Cleaning 🫧🧽\n",
    "The Census data had several irregularities that would need to be addressed. Below I have summarized what I would need to do to clean this dataset:\n",
    "1. Remove symbols from the data including commas, percentages, and dollar signs.\n",
    "2. Convert the columns with percentages into their decimal values.\n",
    "3. Delete rows 64 through 80 because they mostly contain null values that were irrelevant for my analysis:\n",
    "    64-FIPS Code, \n",
    "    65-NaN, \n",
    "    66-NOTE: FIPS Code values are enclosed in quotes ...,\n",
    "    67-Value Notes,\n",
    "    68-1,\n",
    "    69-Fact Notes,\n",
    "    70-(a),\n",
    "    71-(b),\n",
    "    72-(c),\n",
    "    73-Value Flags,\n",
    "    74--,\n",
    "    75-D,\n",
    "    76-F,\n",
    "    77-FN,\n",
    "    78-S,\n",
    "    79-X,\n",
    "    80-Z\n",
    "\n",
    "4. Replace all null values with 0.\n",
    "5. Convert all of the data for each state into numerical values for analysis. This would not apply to the information in the 'Fact' column.\n",
    "6. Transpose the data so that the columns are organized for each Fact and State would be a new column with each state as a string value.\n",
    "7. Shorten the names for the columns to make the dataset easier to read and digest.\n",
    "\n",
    "After cleaning and transforming the Census data, I realized that there were several columns I was not interested in for my analysis. Since most of the demographic data was for 2010 or 2016, I removed data that was for other years (ex: Total retail sales, 2012). I left most of the data that was for 5-year estimates, as this is pretty standard for how ACS collects data over time. Additionally, I was not particularly interested in the data about housing units, mortgages, or firms, so I removed these as well. \n",
    "\n",
    "Since the Census data required significantly more work to clean and transform the data, I saved the cleaning and tranformation as two separate documents:\n",
    "\n",
    "📁 [Census Cleaning Script](https://github.com/dezertdweller/fbi-gun-background-checks/blob/main/census-cleaning.py)\n",
    "\n",
    "📁 [Census Transformation Script](https://github.com/dezertdweller/fbi-gun-background-checks/blob/main/census-transformation.py)"
   ]
  },
  {
   "cell_type": "code",
   "execution_count": null,
   "metadata": {
    "collapsed": true
   },
   "outputs": [],
   "source": [
    "# Load your data and print out a few lines. Perform operations to inspect data\n",
    "#   types and look for instances of missing or possibly errant data.\n"
   ]
  },
  {
   "cell_type": "markdown",
   "metadata": {},
   "source": [
    "> **Tip**: You should _not_ perform too many operations in each cell. Create cells freely to explore your data. One option that you can take with this project is to do a lot of explorations in an initial notebook. These don't have to be organized, but make sure you use enough comments to understand the purpose of each code cell. Then, after you're done with your analysis, create a duplicate notebook where you will trim the excess and organize your steps so that you have a flowing, cohesive report.\n",
    "\n",
    "> **Tip**: Make sure that you keep your reader informed on the steps that you are taking in your investigation. Follow every code cell, or every set of related code cells, with a markdown cell to describe to the reader what was found in the preceding cell(s). Try to make it so that the reader can then understand what they will be seeing in the following cell(s).\n",
    "\n",
    "### Data Cleaning (Replace this with more specific notes!)"
   ]
  },
  {
   "cell_type": "code",
   "execution_count": null,
   "metadata": {
    "collapsed": true
   },
   "outputs": [],
   "source": [
    "# After discussing the structure of the data and any problems that need to be\n",
    "#   cleaned, perform those cleaning steps in the second part of this section.\n"
   ]
  },
  {
   "cell_type": "markdown",
   "metadata": {},
   "source": [
    "<a id='eda'></a>\n",
    "## Exploratory Data Analysis\n",
    "\n",
    "> **Tip**: Now that you've trimmed and cleaned your data, you're ready to move on to exploration. Compute statistics and create visualizations with the goal of addressing the research questions that you posed in the Introduction section. It is recommended that you be systematic with your approach. Look at one variable at a time, and then follow it up by looking at relationships between variables.\n",
    "\n",
    "### Research Question 1 (Replace this header name!)"
   ]
  },
  {
   "cell_type": "code",
   "execution_count": null,
   "metadata": {
    "collapsed": true
   },
   "outputs": [],
   "source": [
    "# Use this, and more code cells, to explore your data. Don't forget to add\n",
    "#   Markdown cells to document your observations and findings.\n"
   ]
  },
  {
   "cell_type": "markdown",
   "metadata": {},
   "source": [
    "### Research Question 2  (Replace this header name!)"
   ]
  },
  {
   "cell_type": "code",
   "execution_count": null,
   "metadata": {
    "collapsed": true
   },
   "outputs": [],
   "source": [
    "# Continue to explore the data to address your additional research\n",
    "#   questions. Add more headers as needed if you have more questions to\n",
    "#   investigate.\n"
   ]
  },
  {
   "cell_type": "markdown",
   "metadata": {},
   "source": [
    "<a id='conclusions'></a>\n",
    "## Conclusions\n",
    "\n",
    "> **Tip**: Finally, summarize your findings and the results that have been performed. Make sure that you are clear with regards to the limitations of your exploration. If you haven't done any statistical tests, do not imply any statistical conclusions. And make sure you avoid implying causation from correlation!\n",
    "\n",
    "> **Tip**: Once you are satisfied with your work, you should save a copy of the report in HTML or PDF form via the **File** > **Download as** submenu. Before exporting your report, check over it to make sure that the flow of the report is complete. You should probably remove all of the \"Tip\" quotes like this one so that the presentation is as tidy as possible. Congratulations!"
   ]
  },
  {
   "cell_type": "code",
   "execution_count": null,
   "metadata": {
    "collapsed": true
   },
   "outputs": [],
   "source": []
  }
 ],
 "metadata": {
  "kernelspec": {
   "display_name": "Python 3 (ipykernel)",
   "language": "python",
   "name": "python3"
  },
  "language_info": {
   "codemirror_mode": {
    "name": "ipython",
    "version": 3
   },
   "file_extension": ".py",
   "mimetype": "text/x-python",
   "name": "python",
   "nbconvert_exporter": "python",
   "pygments_lexer": "ipython3",
   "version": "3.9.7"
  }
 },
 "nbformat": 4,
 "nbformat_minor": 2
}
